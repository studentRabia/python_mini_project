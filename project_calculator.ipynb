{
  "nbformat": 4,
  "nbformat_minor": 0,
  "metadata": {
    "colab": {
      "provenance": [],
      "authorship_tag": "ABX9TyO/+Qi7YTpLIKj57n/Rac1J",
      "include_colab_link": true
    },
    "kernelspec": {
      "name": "python3",
      "display_name": "Python 3"
    },
    "language_info": {
      "name": "python"
    }
  },
  "cells": [
    {
      "cell_type": "markdown",
      "metadata": {
        "id": "view-in-github",
        "colab_type": "text"
      },
      "source": [
        "<a href=\"https://colab.research.google.com/github/studentRabia/python_mini_project/blob/main/project_calculator.ipynb\" target=\"_parent\"><img src=\"https://colab.research.google.com/assets/colab-badge.svg\" alt=\"Open In Colab\"/></a>"
      ]
    },
    {
      "cell_type": "markdown",
      "source": [
        "# simple calculator"
      ],
      "metadata": {
        "id": "Isnbcb9qZubb"
      }
    },
    {
      "cell_type": "code",
      "execution_count": null,
      "metadata": {
        "colab": {
          "base_uri": "https://localhost:8080/"
        },
        "id": "OF_pNZ5PZl1r",
        "outputId": "d15d9c45-bba3-4240-86af-356b36af6d4c"
      },
      "outputs": [
        {
          "name": "stdout",
          "output_type": "stream",
          "text": [
            "\n",
            "\t\t🧮 Simple Calculator 🧮\n",
            "**************************************************\n",
            "Enter first number (or type 'exit' to quit): 100\n",
            "Enter second number: 200\n",
            "Enter an operator (+, -, /, *, **, %): -\n",
            "\n",
            "Subtraction of two numbers is: -100\n",
            "\n",
            "--- 🔥🚩 🎇Calculation Done❕🎇 🔥🚩 ---\n",
            "\n",
            "\n",
            "\t\t🧮 Simple Calculator 🧮\n",
            "**************************************************\n",
            "Enter first number (or type 'exit' to quit): 1s\n",
            "Enter second number: aa\n",
            "\n",
            "Invalid input ❗ Please enter numeric values.\n",
            "\n",
            "\t\t🧮 Simple Calculator 🧮\n",
            "**************************************************\n",
            "Enter first number (or type 'exit' to quit): exit\n"
          ]
        }
      ],
      "source": [
        "def calculator(first_num, second_num, operation):\n",
        "\n",
        "    if operation == \"+\":\n",
        "        print(f\"\\nAddition of two numbers is:\", first_num + second_num)\n",
        "    elif operation == \"-\":  # Fixed indentation\n",
        "        print(f\"\\nSubtraction of two numbers is:\", first_num - second_num)\n",
        "    elif operation == \"*\":\n",
        "        print(f\"\\nMultiplication of two numbers is:\", first_num * second_num)\n",
        "    elif operation == \"/\":\n",
        "        if second_num != 0:\n",
        "            print(f\"\\nDivision of two numbers is:\", first_num / second_num)\n",
        "        else:\n",
        "            print(\"\\n🟡 Error: Division by zero ❌ is not allowed.\")\n",
        "    elif operation == \"**\":\n",
        "        print(f\"\\nPower of the first number raised to the second number is:\", first_num ** second_num)\n",
        "    elif operation == \"%\":\n",
        "        print(f\"\\nModulus of two numbers is:\", first_num % second_num)\n",
        "    else:\n",
        "        print(\"\\nInvalid operator ❗ Please enter a valid operator.\")\n",
        "\n",
        "\n",
        "while True:\n",
        "    print(\"\\n\\t\\t🧮 Simple Calculator 🧮\")\n",
        "    print(\"*\" * 50)  # Fixed the underline\n",
        "\n",
        "    first = input(\"Enter first number (or type 'exit' to quit): \")\n",
        "    if first.lower() == \"exit\":\n",
        "        break\n",
        "    second = input(\"Enter second number: \")\n",
        "    if second.lower() == \"exit\":\n",
        "        break\n",
        "\n",
        "    try:\n",
        "        first = int(first)\n",
        "        second = int(second)\n",
        "    except ValueError:\n",
        "        print(\"\\nInvalid input ❗ Please enter numeric values.\")\n",
        "        continue\n",
        "\n",
        "    operator = input(\"Enter an operator (+, -, /, *, **, %): \")\n",
        "    if operator.lower() == \"exit\":\n",
        "        break\n",
        "\n",
        "    calculator(first, second, operator)\n",
        "    print(\"\\n--- 🔥🚩 🎇Calculation Done❕🎇 🔥🚩 ---\\n\")\n"
      ]
    }
  ]
}